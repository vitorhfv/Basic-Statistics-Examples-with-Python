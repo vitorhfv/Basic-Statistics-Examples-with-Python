{
 "cells": [
  {
   "cell_type": "code",
   "execution_count": 1,
   "id": "670d387f",
   "metadata": {},
   "outputs": [],
   "source": [
    "import basedosdados as bd\n",
    "import pandas as pd\n",
    "import seaborn as sbn\n",
    "import sidetable as stb\n",
    "import matplotlib.pyplot as plt\n"
   ]
  },
  {
   "cell_type": "code",
   "execution_count": 2,
   "id": "44ae6354",
   "metadata": {},
   "outputs": [
    {
     "name": "stderr",
     "output_type": "stream",
     "text": [
      "Downloading: 100%|███████████████████████████████████████████████████████████| 70330/70330 [00:07<00:00, 9821.78rows/s]\n"
     ]
    }
   ],
   "source": [
    "import basedosdados as bd\n",
    "\n",
    "# Loading the database directly with Pandas\n",
    "df = bd.read_table(dataset_id='br_sp_seduc_idesp',\n",
    "table_id='escola',\n",
    "billing_project_id=\"bustling-walker-349821\")"
   ]
  },
  {
   "cell_type": "code",
   "execution_count": 3,
   "id": "df93f64f",
   "metadata": {},
   "outputs": [
    {
     "data": {
      "text/plain": [
       "(6428, 7)"
      ]
     },
     "execution_count": 3,
     "metadata": {},
     "output_type": "execute_result"
    }
   ],
   "source": [
    "df2=df.dropna() # Dropping the null values \n",
    "df2.shape"
   ]
  },
  {
   "cell_type": "code",
   "execution_count": 4,
   "id": "84da607f",
   "metadata": {},
   "outputs": [
    {
     "data": {
      "text/html": [
       "<div>\n",
       "<style scoped>\n",
       "    .dataframe tbody tr th:only-of-type {\n",
       "        vertical-align: middle;\n",
       "    }\n",
       "\n",
       "    .dataframe tbody tr th {\n",
       "        vertical-align: top;\n",
       "    }\n",
       "\n",
       "    .dataframe thead th {\n",
       "        text-align: right;\n",
       "    }\n",
       "</style>\n",
       "<table border=\"1\" class=\"dataframe\">\n",
       "  <thead>\n",
       "    <tr style=\"text-align: right;\">\n",
       "      <th></th>\n",
       "      <th>ano</th>\n",
       "      <th>id_municipio</th>\n",
       "      <th>id_escola</th>\n",
       "      <th>id_escola_sp</th>\n",
       "      <th>nota_idesp_ef_iniciais</th>\n",
       "      <th>nota_idesp_ef_finais</th>\n",
       "      <th>nota_idesp_em</th>\n",
       "    </tr>\n",
       "  </thead>\n",
       "  <tbody>\n",
       "    <tr>\n",
       "      <th>0</th>\n",
       "      <td>2007</td>\n",
       "      <td>3550308</td>\n",
       "      <td>35000024</td>\n",
       "      <td>24</td>\n",
       "      <td>2.88</td>\n",
       "      <td>2.52</td>\n",
       "      <td>1.32</td>\n",
       "    </tr>\n",
       "    <tr>\n",
       "      <th>15</th>\n",
       "      <td>2007</td>\n",
       "      <td>3550308</td>\n",
       "      <td>35000309</td>\n",
       "      <td>309</td>\n",
       "      <td>3.51</td>\n",
       "      <td>2.62</td>\n",
       "      <td>1.63</td>\n",
       "    </tr>\n",
       "    <tr>\n",
       "      <th>20</th>\n",
       "      <td>2007</td>\n",
       "      <td>3550308</td>\n",
       "      <td>35000371</td>\n",
       "      <td>371</td>\n",
       "      <td>2.99</td>\n",
       "      <td>1.76</td>\n",
       "      <td>0.71</td>\n",
       "    </tr>\n",
       "    <tr>\n",
       "      <th>35</th>\n",
       "      <td>2007</td>\n",
       "      <td>3550308</td>\n",
       "      <td>35000693</td>\n",
       "      <td>693</td>\n",
       "      <td>2.01</td>\n",
       "      <td>1.79</td>\n",
       "      <td>0.82</td>\n",
       "    </tr>\n",
       "    <tr>\n",
       "      <th>42</th>\n",
       "      <td>2007</td>\n",
       "      <td>3550308</td>\n",
       "      <td>35000875</td>\n",
       "      <td>875</td>\n",
       "      <td>3.25</td>\n",
       "      <td>2.80</td>\n",
       "      <td>1.72</td>\n",
       "    </tr>\n",
       "    <tr>\n",
       "      <th>...</th>\n",
       "      <td>...</td>\n",
       "      <td>...</td>\n",
       "      <td>...</td>\n",
       "      <td>...</td>\n",
       "      <td>...</td>\n",
       "      <td>...</td>\n",
       "      <td>...</td>\n",
       "    </tr>\n",
       "    <tr>\n",
       "      <th>442</th>\n",
       "      <td>2007</td>\n",
       "      <td>3513405</td>\n",
       "      <td>35012373</td>\n",
       "      <td>12373</td>\n",
       "      <td>1.55</td>\n",
       "      <td>1.84</td>\n",
       "      <td>1.44</td>\n",
       "    </tr>\n",
       "    <tr>\n",
       "      <th>445</th>\n",
       "      <td>2007</td>\n",
       "      <td>3502507</td>\n",
       "      <td>35012592</td>\n",
       "      <td>12592</td>\n",
       "      <td>4.11</td>\n",
       "      <td>2.84</td>\n",
       "      <td>1.33</td>\n",
       "    </tr>\n",
       "    <tr>\n",
       "      <th>446</th>\n",
       "      <td>2007</td>\n",
       "      <td>3518404</td>\n",
       "      <td>35012634</td>\n",
       "      <td>12634</td>\n",
       "      <td>3.71</td>\n",
       "      <td>2.31</td>\n",
       "      <td>0.54</td>\n",
       "    </tr>\n",
       "    <tr>\n",
       "      <th>448</th>\n",
       "      <td>2007</td>\n",
       "      <td>3518404</td>\n",
       "      <td>35012841</td>\n",
       "      <td>12841</td>\n",
       "      <td>2.70</td>\n",
       "      <td>2.76</td>\n",
       "      <td>0.81</td>\n",
       "    </tr>\n",
       "    <tr>\n",
       "      <th>449</th>\n",
       "      <td>2007</td>\n",
       "      <td>3518404</td>\n",
       "      <td>35012890</td>\n",
       "      <td>12890</td>\n",
       "      <td>2.12</td>\n",
       "      <td>2.72</td>\n",
       "      <td>0.82</td>\n",
       "    </tr>\n",
       "  </tbody>\n",
       "</table>\n",
       "<p>100 rows × 7 columns</p>\n",
       "</div>"
      ],
      "text/plain": [
       "      ano id_municipio id_escola id_escola_sp  nota_idesp_ef_iniciais  \\\n",
       "0    2007      3550308  35000024           24                    2.88   \n",
       "15   2007      3550308  35000309          309                    3.51   \n",
       "20   2007      3550308  35000371          371                    2.99   \n",
       "35   2007      3550308  35000693          693                    2.01   \n",
       "42   2007      3550308  35000875          875                    3.25   \n",
       "..    ...          ...       ...          ...                     ...   \n",
       "442  2007      3513405  35012373        12373                    1.55   \n",
       "445  2007      3502507  35012592        12592                    4.11   \n",
       "446  2007      3518404  35012634        12634                    3.71   \n",
       "448  2007      3518404  35012841        12841                    2.70   \n",
       "449  2007      3518404  35012890        12890                    2.12   \n",
       "\n",
       "     nota_idesp_ef_finais  nota_idesp_em  \n",
       "0                    2.52           1.32  \n",
       "15                   2.62           1.63  \n",
       "20                   1.76           0.71  \n",
       "35                   1.79           0.82  \n",
       "42                   2.80           1.72  \n",
       "..                    ...            ...  \n",
       "442                  1.84           1.44  \n",
       "445                  2.84           1.33  \n",
       "446                  2.31           0.54  \n",
       "448                  2.76           0.81  \n",
       "449                  2.72           0.82  \n",
       "\n",
       "[100 rows x 7 columns]"
      ]
     },
     "execution_count": 4,
     "metadata": {},
     "output_type": "execute_result"
    }
   ],
   "source": [
    "df2.head(100)"
   ]
  },
  {
   "cell_type": "code",
   "execution_count": 5,
   "id": "db45e7c3",
   "metadata": {},
   "outputs": [
    {
     "data": {
      "text/plain": [
       "(array([  20.,  358., 1317., 1644., 1508.,  938.,  425.,  155.,   48.,\n",
       "          15.]),\n",
       " array([0.26 , 1.206, 2.152, 3.098, 4.044, 4.99 , 5.936, 6.882, 7.828,\n",
       "        8.774, 9.72 ]),\n",
       " <BarContainer object of 10 artists>)"
      ]
     },
     "execution_count": 5,
     "metadata": {},
     "output_type": "execute_result"
    },
    {
     "data": {
      "image/png": "[encoded data removed]",
      "text/plain": [
       "<Figure size 432x288 with 1 Axes>"
      ]
     },
     "metadata": {
      "needs_background": "light"
     },
     "output_type": "display_data"
    }
   ],
   "source": [
    "plt.hist(df2['nota_idesp_ef_iniciais']) \n",
    "# Plotting a basic histogram with the grades (elementary and middle school only) of IDESP's indicator using matplotlib."
   ]
  },
  {
   "cell_type": "code",
   "execution_count": 8,
   "id": "69ea5fd4",
   "metadata": {},
   "outputs": [
    {
     "data": {
      "text/html": [
       "<div>\n",
       "<style scoped>\n",
       "    .dataframe tbody tr th:only-of-type {\n",
       "        vertical-align: middle;\n",
       "    }\n",
       "\n",
       "    .dataframe tbody tr th {\n",
       "        vertical-align: top;\n",
       "    }\n",
       "\n",
       "    .dataframe thead th {\n",
       "        text-align: right;\n",
       "    }\n",
       "</style>\n",
       "<table border=\"1\" class=\"dataframe\">\n",
       "  <thead>\n",
       "    <tr style=\"text-align: right;\">\n",
       "      <th></th>\n",
       "      <th>ano</th>\n",
       "      <th>nota_idesp_ef_iniciais</th>\n",
       "      <th>nota_idesp_ef_finais</th>\n",
       "      <th>nota_idesp_em</th>\n",
       "    </tr>\n",
       "  </thead>\n",
       "  <tbody>\n",
       "    <tr>\n",
       "      <th>count</th>\n",
       "      <td>6428.000000</td>\n",
       "      <td>6428.000000</td>\n",
       "      <td>6428.000000</td>\n",
       "      <td>6428.000000</td>\n",
       "    </tr>\n",
       "    <tr>\n",
       "      <th>mean</th>\n",
       "      <td>2012.469820</td>\n",
       "      <td>4.085440</td>\n",
       "      <td>2.673990</td>\n",
       "      <td>1.832680</td>\n",
       "    </tr>\n",
       "    <tr>\n",
       "      <th>std</th>\n",
       "      <td>3.740683</td>\n",
       "      <td>1.388018</td>\n",
       "      <td>0.818302</td>\n",
       "      <td>0.785198</td>\n",
       "    </tr>\n",
       "    <tr>\n",
       "      <th>min</th>\n",
       "      <td>2007.000000</td>\n",
       "      <td>0.260000</td>\n",
       "      <td>0.630000</td>\n",
       "      <td>0.080000</td>\n",
       "    </tr>\n",
       "    <tr>\n",
       "      <th>25%</th>\n",
       "      <td>2009.000000</td>\n",
       "      <td>3.030000</td>\n",
       "      <td>2.090000</td>\n",
       "      <td>1.270000</td>\n",
       "    </tr>\n",
       "    <tr>\n",
       "      <th>50%</th>\n",
       "      <td>2012.000000</td>\n",
       "      <td>3.970000</td>\n",
       "      <td>2.550000</td>\n",
       "      <td>1.710000</td>\n",
       "    </tr>\n",
       "    <tr>\n",
       "      <th>75%</th>\n",
       "      <td>2016.000000</td>\n",
       "      <td>4.960000</td>\n",
       "      <td>3.130000</td>\n",
       "      <td>2.250000</td>\n",
       "    </tr>\n",
       "    <tr>\n",
       "      <th>max</th>\n",
       "      <td>2019.000000</td>\n",
       "      <td>9.720000</td>\n",
       "      <td>7.690000</td>\n",
       "      <td>7.530000</td>\n",
       "    </tr>\n",
       "  </tbody>\n",
       "</table>\n",
       "</div>"
      ],
      "text/plain": [
       "               ano  nota_idesp_ef_iniciais  nota_idesp_ef_finais  \\\n",
       "count  6428.000000             6428.000000           6428.000000   \n",
       "mean   2012.469820                4.085440              2.673990   \n",
       "std       3.740683                1.388018              0.818302   \n",
       "min    2007.000000                0.260000              0.630000   \n",
       "25%    2009.000000                3.030000              2.090000   \n",
       "50%    2012.000000                3.970000              2.550000   \n",
       "75%    2016.000000                4.960000              3.130000   \n",
       "max    2019.000000                9.720000              7.690000   \n",
       "\n",
       "       nota_idesp_em  \n",
       "count    6428.000000  \n",
       "mean        1.832680  \n",
       "std         0.785198  \n",
       "min         0.080000  \n",
       "25%         1.270000  \n",
       "50%         1.710000  \n",
       "75%         2.250000  \n",
       "max         7.530000  "
      ]
     },
     "execution_count": 8,
     "metadata": {},
     "output_type": "execute_result"
    }
   ],
   "source": [
    "df2.describe()"
   ]
  },
  {
   "cell_type": "code",
   "execution_count": 9,
   "id": "04b34671",
   "metadata": {},
   "outputs": [
    {
     "data": {
      "text/plain": [
       "(array([0.0058469 , 0.01587017, 0.07266865, 0.19461834, 0.3591669 ,\n",
       "        0.45939952, 0.59304302, 0.53791508, 0.58552557, 0.5195391 ,\n",
       "        0.39925995, 0.4126243 , 0.28399243, 0.22468813, 0.172066  ,\n",
       "        0.14784312, 0.11610279, 0.0743392 , 0.04928104, 0.04259886,\n",
       "        0.01921125, 0.01587017, 0.01754071, 0.01169381, 0.00918799,\n",
       "        0.00751745, 0.0058469 , 0.00250582, 0.00334109, 0.00334109,\n",
       "        0.00083527, 0.00167054, 0.00083527, 0.00083527, 0.        ,\n",
       "        0.00083527, 0.00083527, 0.        , 0.        , 0.00083527]),\n",
       " array([0.08   , 0.26625, 0.4525 , 0.63875, 0.825  , 1.01125, 1.1975 ,\n",
       "        1.38375, 1.57   , 1.75625, 1.9425 , 2.12875, 2.315  , 2.50125,\n",
       "        2.6875 , 2.87375, 3.06   , 3.24625, 3.4325 , 3.61875, 3.805  ,\n",
       "        3.99125, 4.1775 , 4.36375, 4.55   , 4.73625, 4.9225 , 5.10875,\n",
       "        5.295  , 5.48125, 5.6675 , 5.85375, 6.04   , 6.22625, 6.4125 ,\n",
       "        6.59875, 6.785  , 6.97125, 7.1575 , 7.34375, 7.53   ]),\n",
       " <BarContainer object of 40 artists>)"
      ]
     },
     "execution_count": 9,
     "metadata": {},
     "output_type": "execute_result"
    },
    {
     "data": {
      "image/png": "[encoded data removed]",
      "text/plain": [
       "<Figure size 432x288 with 1 Axes>"
      ]
     },
     "metadata": {
      "needs_background": "light"
     },
     "output_type": "display_data"
    }
   ],
   "source": [
    "plt.hist(x='nota_idesp_em', density=True, bins=40, data=df2)\n",
    "# Plotting a basic histogram with the IDESP indicator notes of the High Schools with matplotlib."
   ]
  },
  {
   "cell_type": "code",
   "execution_count": 19,
   "id": "c2745dfd",
   "metadata": {},
   "outputs": [
    {
     "data": {
      "text/plain": [
       "Text(0, -20, 'Fonte: IDESP')"
      ]
     },
     "execution_count": 19,
     "metadata": {},
     "output_type": "execute_result"
    },
    {
     "data": {
      "image/png": "[encoded data removed]",
      "text/plain": [
       "<Figure size 720x576 with 1 Axes>"
      ]
     },
     "metadata": {},
     "output_type": "display_data"
    }
   ],
   "source": [
    "# Plotting a histogram of IDESP's grades of the High School with Seaborn and Matplotlib.\n",
    "plt.style.use('seaborn-dark')\n",
    "plt.figure (figsize=(10,8))\n",
    "sbn.histplot(y='nota_idesp_em', x='ano', data=df2, bins=25,)\n",
    "plt.title ('Índice de Desenvolvimento da Educação do estado de SP (Ensino Médio)')\n",
    "plt.xlabel(\"ano\")\n",
    "plt.ylabel(\"Nota do IDESP (Ensino Médio)\")\n",
    "plt.annotate('Fonte: IDESP', (0,0), (0,-20), fontsize=12, \n",
    "             xycoords='axes fraction', textcoords='offset points', va='top')"
   ]
  },
  {
   "cell_type": "code",
   "execution_count": 20,
   "id": "bdee8507",
   "metadata": {},
   "outputs": [],
   "source": [
    "# You can see that the grades get a litte bit higher (and bluer) through the years, although the median grade still low.\n",
    "# Thus, you can confirm that there is a improvement of education at São Paulo state between 2008 and 2018.\n"
   ]
  },
  {
   "cell_type": "code",
   "execution_count": null,
   "id": "22b992d0",
   "metadata": {},
   "outputs": [],
   "source": []
  }
 ],
 "metadata": {
  "kernelspec": {
   "display_name": "Python 3 (ipykernel)",
   "language": "python",
   "name": "python3"
  },
  "language_info": {
   "codemirror_mode": {
    "name": "ipython",
    "version": 3
   },
   "file_extension": ".py",
   "mimetype": "text/x-python",
   "name": "python",
   "nbconvert_exporter": "python",
   "pygments_lexer": "ipython3",
   "version": "3.9.7"
  }
 },
 "nbformat": 4,
 "nbformat_minor": 5
}
